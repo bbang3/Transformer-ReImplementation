{
 "cells": [
  {
   "cell_type": "code",
   "execution_count": 3,
   "metadata": {},
   "outputs": [
    {
     "ename": "ImportError",
     "evalue": "cannot import name 'DatasetCard' from 'huggingface_hub' (/Users/sangmin/anaconda3/envs/pytorch/lib/python3.9/site-packages/huggingface_hub/__init__.py)",
     "output_type": "error",
     "traceback": [
      "\u001b[0;31m---------------------------------------------------------------------------\u001b[0m",
      "\u001b[0;31mImportError\u001b[0m                               Traceback (most recent call last)",
      "Cell \u001b[0;32mIn[3], line 1\u001b[0m\n\u001b[0;32m----> 1\u001b[0m \u001b[39mfrom\u001b[39;00m \u001b[39mdatasets\u001b[39;00m \u001b[39mimport\u001b[39;00m inspect_dataset, load_dataset_builder, load_dataset, get_dataset_split_names\n\u001b[1;32m      2\u001b[0m \u001b[39mimport\u001b[39;00m \u001b[39mdatasets\u001b[39;00m\n\u001b[1;32m      3\u001b[0m \u001b[39mimport\u001b[39;00m \u001b[39mtorch\u001b[39;00m\n",
      "File \u001b[0;32m~/anaconda3/envs/pytorch/lib/python3.9/site-packages/datasets/__init__.py:22\u001b[0m\n\u001b[1;32m      1\u001b[0m \u001b[39m# flake8: noqa\u001b[39;00m\n\u001b[1;32m      2\u001b[0m \u001b[39m# Copyright 2020 The HuggingFace Datasets Authors and the TensorFlow Datasets Authors.\u001b[39;00m\n\u001b[1;32m      3\u001b[0m \u001b[39m#\u001b[39;00m\n\u001b[0;32m   (...)\u001b[0m\n\u001b[1;32m     17\u001b[0m \u001b[39m# pylint: enable=line-too-long\u001b[39;00m\n\u001b[1;32m     18\u001b[0m \u001b[39m# pylint: disable=g-import-not-at-top,g-bad-import-order,wrong-import-position\u001b[39;00m\n\u001b[1;32m     20\u001b[0m __version__ \u001b[39m=\u001b[39m \u001b[39m\"\u001b[39m\u001b[39m2.14.3\u001b[39m\u001b[39m\"\u001b[39m\n\u001b[0;32m---> 22\u001b[0m \u001b[39mfrom\u001b[39;00m \u001b[39m.\u001b[39;00m\u001b[39marrow_dataset\u001b[39;00m \u001b[39mimport\u001b[39;00m Dataset\n\u001b[1;32m     23\u001b[0m \u001b[39mfrom\u001b[39;00m \u001b[39m.\u001b[39;00m\u001b[39marrow_reader\u001b[39;00m \u001b[39mimport\u001b[39;00m ReadInstruction\n\u001b[1;32m     24\u001b[0m \u001b[39mfrom\u001b[39;00m \u001b[39m.\u001b[39;00m\u001b[39mbuilder\u001b[39;00m \u001b[39mimport\u001b[39;00m ArrowBasedBuilder, BeamBasedBuilder, BuilderConfig, DatasetBuilder, GeneratorBasedBuilder\n",
      "File \u001b[0;32m~/anaconda3/envs/pytorch/lib/python3.9/site-packages/datasets/arrow_dataset.py:61\u001b[0m\n\u001b[1;32m     59\u001b[0m \u001b[39mimport\u001b[39;00m \u001b[39mpyarrow\u001b[39;00m \u001b[39mas\u001b[39;00m \u001b[39mpa\u001b[39;00m\n\u001b[1;32m     60\u001b[0m \u001b[39mimport\u001b[39;00m \u001b[39mpyarrow\u001b[39;00m\u001b[39m.\u001b[39;00m\u001b[39mcompute\u001b[39;00m \u001b[39mas\u001b[39;00m \u001b[39mpc\u001b[39;00m\n\u001b[0;32m---> 61\u001b[0m \u001b[39mfrom\u001b[39;00m \u001b[39mhuggingface_hub\u001b[39;00m \u001b[39mimport\u001b[39;00m DatasetCard, DatasetCardData, HfApi, HfFolder\n\u001b[1;32m     62\u001b[0m \u001b[39mfrom\u001b[39;00m \u001b[39mmultiprocess\u001b[39;00m \u001b[39mimport\u001b[39;00m Pool\n\u001b[1;32m     63\u001b[0m \u001b[39mfrom\u001b[39;00m \u001b[39mrequests\u001b[39;00m \u001b[39mimport\u001b[39;00m HTTPError\n",
      "\u001b[0;31mImportError\u001b[0m: cannot import name 'DatasetCard' from 'huggingface_hub' (/Users/sangmin/anaconda3/envs/pytorch/lib/python3.9/site-packages/huggingface_hub/__init__.py)"
     ]
    }
   ],
   "source": [
    "from datasets import inspect_dataset, load_dataset_builder, load_dataset, get_dataset_split_names\n",
    "import datasets\n",
    "import torch\n",
    "import pandas as pd\n",
    "import numpy as np\n",
    "import matplotlib as plt\n",
    "import os\n",
    "from torch.utils.data import Dataset, DataLoader\n",
    "from tokenizers import CharBPETokenizer\n",
    "from transformers import AutoTokenizer\n",
    "from tqdm import tqdm"
   ]
  },
  {
   "cell_type": "markdown",
   "metadata": {},
   "source": [
    "# Save dataset from huggingface as files (for practice)"
   ]
  },
  {
   "cell_type": "code",
   "execution_count": 23,
   "metadata": {},
   "outputs": [],
   "source": [
    "dataset = load_dataset('iwslt2017', 'iwslt2017-en-de')"
   ]
  },
  {
   "cell_type": "code",
   "execution_count": 25,
   "metadata": {},
   "outputs": [
    {
     "data": {
      "text/html": [
       "<div>\n",
       "<style scoped>\n",
       "    .dataframe tbody tr th:only-of-type {\n",
       "        vertical-align: middle;\n",
       "    }\n",
       "\n",
       "    .dataframe tbody tr th {\n",
       "        vertical-align: top;\n",
       "    }\n",
       "\n",
       "    .dataframe thead th {\n",
       "        text-align: right;\n",
       "    }\n",
       "</style>\n",
       "<table border=\"1\" class=\"dataframe\">\n",
       "  <thead>\n",
       "    <tr style=\"text-align: right;\">\n",
       "      <th></th>\n",
       "      <th>en</th>\n",
       "      <th>de</th>\n",
       "    </tr>\n",
       "  </thead>\n",
       "  <tbody>\n",
       "    <tr>\n",
       "      <th>0</th>\n",
       "      <td>Thank you so much, Chris.</td>\n",
       "      <td>Vielen Dank, Chris.</td>\n",
       "    </tr>\n",
       "    <tr>\n",
       "      <th>1</th>\n",
       "      <td>And it's truly a great honor to have the oppor...</td>\n",
       "      <td>Es ist mir wirklich eine Ehre, zweimal auf die...</td>\n",
       "    </tr>\n",
       "    <tr>\n",
       "      <th>2</th>\n",
       "      <td>I have been blown away by this conference, and...</td>\n",
       "      <td>Ich bin wirklich begeistert von dieser Konfere...</td>\n",
       "    </tr>\n",
       "    <tr>\n",
       "      <th>3</th>\n",
       "      <td>And I say that sincerely, partly because  I ne...</td>\n",
       "      <td>Das meine ich ernst, teilweise deshalb -- weil...</td>\n",
       "    </tr>\n",
       "    <tr>\n",
       "      <th>4</th>\n",
       "      <td>Put yourselves in my position.</td>\n",
       "      <td>Versetzen Sie sich mal in meine Lage!</td>\n",
       "    </tr>\n",
       "  </tbody>\n",
       "</table>\n",
       "</div>"
      ],
      "text/plain": [
       "                                                  en  \\\n",
       "0                          Thank you so much, Chris.   \n",
       "1  And it's truly a great honor to have the oppor...   \n",
       "2  I have been blown away by this conference, and...   \n",
       "3  And I say that sincerely, partly because  I ne...   \n",
       "4                     Put yourselves in my position.   \n",
       "\n",
       "                                                  de  \n",
       "0                                Vielen Dank, Chris.  \n",
       "1  Es ist mir wirklich eine Ehre, zweimal auf die...  \n",
       "2  Ich bin wirklich begeistert von dieser Konfere...  \n",
       "3  Das meine ich ernst, teilweise deshalb -- weil...  \n",
       "4              Versetzen Sie sich mal in meine Lage!  "
      ]
     },
     "execution_count": 25,
     "metadata": {},
     "output_type": "execute_result"
    }
   ],
   "source": [
    "df = pd.DataFrame(dataset['train']['translation'], columns=['en', 'de'])\n",
    "df.head()"
   ]
  },
  {
   "cell_type": "code",
   "execution_count": 35,
   "metadata": {},
   "outputs": [
    {
     "data": {
      "text/html": [
       "<div>\n",
       "<style scoped>\n",
       "    .dataframe tbody tr th:only-of-type {\n",
       "        vertical-align: middle;\n",
       "    }\n",
       "\n",
       "    .dataframe tbody tr th {\n",
       "        vertical-align: top;\n",
       "    }\n",
       "\n",
       "    .dataframe thead th {\n",
       "        text-align: right;\n",
       "    }\n",
       "</style>\n",
       "<table border=\"1\" class=\"dataframe\">\n",
       "  <thead>\n",
       "    <tr style=\"text-align: right;\">\n",
       "      <th></th>\n",
       "      <th>en</th>\n",
       "      <th>de</th>\n",
       "      <th>en_token_cnt</th>\n",
       "      <th>de_token_cnt</th>\n",
       "    </tr>\n",
       "  </thead>\n",
       "  <tbody>\n",
       "    <tr>\n",
       "      <th>0</th>\n",
       "      <td>Thank you so much, Chris.</td>\n",
       "      <td>Vielen Dank, Chris.</td>\n",
       "      <td>5</td>\n",
       "      <td>3</td>\n",
       "    </tr>\n",
       "    <tr>\n",
       "      <th>1</th>\n",
       "      <td>And it's truly a great honor to have the oppor...</td>\n",
       "      <td>Es ist mir wirklich eine Ehre, zweimal auf die...</td>\n",
       "      <td>19</td>\n",
       "      <td>16</td>\n",
       "    </tr>\n",
       "    <tr>\n",
       "      <th>2</th>\n",
       "      <td>I have been blown away by this conference, and...</td>\n",
       "      <td>Ich bin wirklich begeistert von dieser Konfere...</td>\n",
       "      <td>30</td>\n",
       "      <td>22</td>\n",
       "    </tr>\n",
       "    <tr>\n",
       "      <th>3</th>\n",
       "      <td>And I say that sincerely, partly because  I ne...</td>\n",
       "      <td>Das meine ich ernst, teilweise deshalb -- weil...</td>\n",
       "      <td>10</td>\n",
       "      <td>13</td>\n",
       "    </tr>\n",
       "    <tr>\n",
       "      <th>4</th>\n",
       "      <td>Put yourselves in my position.</td>\n",
       "      <td>Versetzen Sie sich mal in meine Lage!</td>\n",
       "      <td>5</td>\n",
       "      <td>7</td>\n",
       "    </tr>\n",
       "  </tbody>\n",
       "</table>\n",
       "</div>"
      ],
      "text/plain": [
       "                                                  en  \\\n",
       "0                          Thank you so much, Chris.   \n",
       "1  And it's truly a great honor to have the oppor...   \n",
       "2  I have been blown away by this conference, and...   \n",
       "3  And I say that sincerely, partly because  I ne...   \n",
       "4                     Put yourselves in my position.   \n",
       "\n",
       "                                                  de  en_token_cnt  \\\n",
       "0                                Vielen Dank, Chris.             5   \n",
       "1  Es ist mir wirklich eine Ehre, zweimal auf die...            19   \n",
       "2  Ich bin wirklich begeistert von dieser Konfere...            30   \n",
       "3  Das meine ich ernst, teilweise deshalb -- weil...            10   \n",
       "4              Versetzen Sie sich mal in meine Lage!             5   \n",
       "\n",
       "   de_token_cnt  \n",
       "0             3  \n",
       "1            16  \n",
       "2            22  \n",
       "3            13  \n",
       "4             7  "
      ]
     },
     "execution_count": 35,
     "metadata": {},
     "output_type": "execute_result"
    }
   ],
   "source": [
    "df['en_token_cnt'] = df.en.apply(lambda sent: len(sent.split()))\n",
    "df['de_token_cnt'] = df.de.apply(lambda sent: len(sent.split()))\n",
    "df.head()"
   ]
  },
  {
   "cell_type": "code",
   "execution_count": 46,
   "metadata": {},
   "outputs": [
    {
     "data": {
      "text/plain": [
       "<Axes: ylabel='Frequency'>"
      ]
     },
     "execution_count": 46,
     "metadata": {},
     "output_type": "execute_result"
    },
    {
     "data": {
      "image/png": "[encoded data removed]",
      "text/plain": [
       "<Figure size 640x480 with 1 Axes>"
      ]
     },
     "metadata": {},
     "output_type": "display_data"
    }
   ],
   "source": [
    "df['en_token_cnt'].plot(kind='hist')\n",
    "# df['de_token_cnt'].max()"
   ]
  },
  {
   "cell_type": "code",
   "execution_count": 9,
   "metadata": {},
   "outputs": [
    {
     "data": {
      "text/plain": [
       "DatasetDict({\n",
       "    train: Dataset({\n",
       "        features: ['translation'],\n",
       "        num_rows: 206112\n",
       "    })\n",
       "    test: Dataset({\n",
       "        features: ['translation'],\n",
       "        num_rows: 8079\n",
       "    })\n",
       "    validation: Dataset({\n",
       "        features: ['translation'],\n",
       "        num_rows: 888\n",
       "    })\n",
       "})"
      ]
     },
     "execution_count": 9,
     "metadata": {},
     "output_type": "execute_result"
    }
   ],
   "source": [
    "dataset"
   ]
  },
  {
   "cell_type": "code",
   "execution_count": 21,
   "metadata": {},
   "outputs": [],
   "source": [
    "def extract_dataset(path: str, dataset_dict: datasets.DatasetDict, language_pair: str):\n",
    "    langs = language_pair.split('-')\n",
    "    for dataset_split, dataset in dataset_dict.items():\n",
    "        for lang in langs:\n",
    "            full_path = os.path.join(path, f\"{dataset_split}.{lang}\")\n",
    "            \n",
    "            with open(full_path, \"w\", encoding=\"utf-8\") as f:\n",
    "                for data in dataset:\n",
    "                    data_lang = data['translation'][lang]\n",
    "                    f.write(data_lang + '\\n')"
   ]
  },
  {
   "cell_type": "code",
   "execution_count": 22,
   "metadata": {},
   "outputs": [],
   "source": [
    "extract_dataset('./dataset/', dataset, language_pair='en-de')"
   ]
  },
  {
   "cell_type": "code",
   "execution_count": 4,
   "metadata": {},
   "outputs": [
    {
     "ename": "NameError",
     "evalue": "name '퍠ᄎᄆ' is not defined",
     "output_type": "error",
     "traceback": [
      "\u001b[0;31m---------------------------------------------------------------------------\u001b[0m",
      "\u001b[0;31mNameError\u001b[0m                                 Traceback (most recent call last)",
      "Cell \u001b[0;32mIn[4], line 1\u001b[0m\n\u001b[0;32m----> 1\u001b[0m 퍠ㅊㅁ\n\u001b[1;32m      3\u001b[0m en_tokenizer \u001b[39m=\u001b[39m CharBPETokenizer(lowercase\u001b[39m=\u001b[39m\u001b[39mFalse\u001b[39;00m, split_on_whitespace_only\u001b[39m=\u001b[39m\u001b[39mTrue\u001b[39;00m)\n\u001b[1;32m      4\u001b[0m en_tokenizer\u001b[39m.\u001b[39mtrain(\n\u001b[1;32m      5\u001b[0m     files\u001b[39m=\u001b[39m\u001b[39m'\u001b[39m\u001b[39m./dataset/train.en\u001b[39m\u001b[39m'\u001b[39m,\n\u001b[1;32m      6\u001b[0m     vocab_size \u001b[39m=\u001b[39m \u001b[39m10000\u001b[39m,\n\u001b[1;32m      7\u001b[0m     min_frequency \u001b[39m=\u001b[39m \u001b[39m1\u001b[39m\n\u001b[1;32m      8\u001b[0m )\n",
      "\u001b[0;31mNameError\u001b[0m: name '퍠ᄎᄆ' is not defined"
     ]
    }
   ],
   "source": [
    "VOCAB_SIZE = 37000\n",
    "\n",
    "en_tokenizer = CharBPETokenizer(lowercase=False, split_on_whitespace_only=True)\n",
    "en_tokenizer.train(\n",
    "    files='./dataset/train.en',\n",
    "    vocab_size = VOCAB_SIZE,\n",
    "    min_frequency = 1\n",
    ")\n",
    "\n",
    "output = en_tokenizer.encode(\"And it's truly a great honor to have the opportunity to come to this stage twice; I'm extremely grateful.\")\n",
    "print(output)\n",
    "output.tokens"
   ]
  },
  {
   "cell_type": "markdown",
   "metadata": {},
   "source": []
  },
  {
   "cell_type": "code",
   "execution_count": 79,
   "metadata": {},
   "outputs": [
    {
     "name": "stdout",
     "output_type": "stream",
     "text": [
      "\n",
      "\n",
      "\n"
     ]
    },
    {
     "data": {
      "text/plain": [
       "['E',\n",
       " 's</w>',\n",
       " 'ist</w>',\n",
       " 'm',\n",
       " 'ir</w>',\n",
       " 'w',\n",
       " 'ir',\n",
       " 'k',\n",
       " 'l',\n",
       " 'ich</w>',\n",
       " 'e',\n",
       " 'ine</w>',\n",
       " 'E',\n",
       " 'h',\n",
       " 're,</w>',\n",
       " 'z',\n",
       " 'we',\n",
       " 'im',\n",
       " 'al</w>',\n",
       " 'au',\n",
       " 'f</w>',\n",
       " 'di',\n",
       " 'es',\n",
       " 'er</w>',\n",
       " 'B',\n",
       " 'ü',\n",
       " 'h',\n",
       " 'ne</w>',\n",
       " 'ste',\n",
       " 'h',\n",
       " 'en</w>',\n",
       " 'z',\n",
       " 'u</w>',\n",
       " 'd',\n",
       " 'ü',\n",
       " 'r',\n",
       " 'f',\n",
       " 'en.</w>',\n",
       " 'T',\n",
       " 'a',\n",
       " 'us',\n",
       " 'end</w>',\n",
       " 'D',\n",
       " 'ank</w>',\n",
       " 'da',\n",
       " 'f',\n",
       " 'ü',\n",
       " 'r.</w>']"
      ]
     },
     "execution_count": 79,
     "metadata": {},
     "output_type": "execute_result"
    }
   ],
   "source": [
    "de_tokenizer = CharBPETokenizer(lowercase=False, split_on_whitespace_only=True)\n",
    "de_tokenizer.train(\n",
    "    files='./dataset/train.de',\n",
    "    vocab_size = VOCAB_SIZE,\n",
    "    min_frequency = 1\n",
    ")\n",
    "\n",
    "output = de_tokenizer.encode(\"Es ist mir wirklich eine Ehre, zweimal auf dieser Bühne stehen zu dürfen. Tausend Dank dafür.\")\n",
    "output.tokens"
   ]
  },
  {
   "cell_type": "code",
   "execution_count": 99,
   "metadata": {},
   "outputs": [],
   "source": [
    "class TranslationDataset(Dataset):\n",
    "    def __init__(self, path, split, language_pair='en-de', max_length=256) -> None:\n",
    "        super().__init__()\n",
    "        \n",
    "        src_lang, tgt_lang = language_pair.split('-')\n",
    "\n",
    "        full_path = os.path.join(path, f'{split}.{src_lang}')\n",
    "        with open(full_path, 'r', encoding='utf-8') as f:\n",
    "            sents = f.readlines()\n",
    "        src_sents = [sent.rstrip() for sent in sents]\n",
    "\n",
    "        full_path = os.path.join(path, f'{split}.{tgt_lang}')\n",
    "        with open(full_path, 'r', encoding='utf-8') as f:\n",
    "            sents = f.readlines()\n",
    "        tgt_sents = [sent.rstrip() for sent in sents]\n",
    "    \n",
    "        self.src_sents = src_sents\n",
    "        self.tgt_sents = tgt_sents\n",
    "\n",
    "        self.src_tokenizer = en_tokenizer\n",
    "        self.tgt_tokenizer = de_tokenizer\n",
    "\n",
    "        self.max_length = max_length\n",
    "    \n",
    "    def __len__(self):\n",
    "        return len(self.src_sents)\n",
    "\n",
    "    def __getitem__(self, index):\n",
    "        src_sent = self.src_sents[index]\n",
    "        tgt_sent = self.tgt_sents[index]\n",
    "\n",
    "        src_token = self.src_tokenizer.encode(src_sent).ids\n",
    "        tgt_token = self.tgt_tokenizer.encode(tgt_sent).ids\n",
    "\n",
    "        return {\n",
    "            'input': torch.tensor(src_token),\n",
    "            'output': torch.tensor(tgt_token)\n",
    "        }\n",
    "    \n"
   ]
  },
  {
   "cell_type": "code",
   "execution_count": 100,
   "metadata": {},
   "outputs": [
    {
     "data": {
      "text/plain": [
       "{'input': tensor([ 948,  288,  371, 4509, 3208,  814]),\n",
       " 'output': tensor([4460,  275,  300,   34,  245,  627, 3208,  814])}"
      ]
     },
     "execution_count": 100,
     "metadata": {},
     "output_type": "execute_result"
    }
   ],
   "source": [
    "train_dataset = TranslationDataset('./dataset/', 'train', 'en-de')\n",
    "train_dataset[0]"
   ]
  },
  {
   "cell_type": "code",
   "execution_count": 107,
   "metadata": {},
   "outputs": [],
   "source": [
    "from torch.nn.utils.rnn import pad_sequence\n",
    "\n",
    "def collate_fn(samples):\n",
    "    inputs = [sample['input'] for sample in samples]\n",
    "    outputs = [sample['output'] for sample in samples]\n",
    "\n",
    "    padded_inputs = pad_sequence(inputs, batch_first=True)\n",
    "    padded_outputs = pad_sequence(outputs, batch_first=True)\n",
    "\n",
    "    return {\n",
    "        'input': padded_inputs,\n",
    "        'output': padded_outputs\n",
    "    }"
   ]
  },
  {
   "cell_type": "code",
   "execution_count": 109,
   "metadata": {},
   "outputs": [],
   "source": [
    "train_loader = DataLoader(train_dataset, batch_size=8, shuffle=True, collate_fn=collate_fn)"
   ]
  },
  {
   "cell_type": "code",
   "execution_count": 113,
   "metadata": {},
   "outputs": [
    {
     "name": "stdout",
     "output_type": "stream",
     "text": [
      "torch.Size([8, 58]) torch.Size([8, 121])\n"
     ]
    }
   ],
   "source": [
    "for step, batch in enumerate(train_loader):\n",
    "    src, target = batch.values()\n",
    "    print(src.shape, target.shape)\n",
    "    break"
   ]
  },
  {
   "cell_type": "code",
   "execution_count": null,
   "metadata": {},
   "outputs": [],
   "source": []
  }
 ],
 "metadata": {
  "kernelspec": {
   "display_name": "pytorch",
   "language": "python",
   "name": "python3"
  },
  "language_info": {
   "codemirror_mode": {
    "name": "ipython",
    "version": 3
   },
   "file_extension": ".py",
   "mimetype": "text/x-python",
   "name": "python",
   "nbconvert_exporter": "python",
   "pygments_lexer": "ipython3",
   "version": "3.9.17"
  },
  "orig_nbformat": 4
 },
 "nbformat": 4,
 "nbformat_minor": 2
}
